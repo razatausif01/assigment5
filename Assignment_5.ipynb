{
  "cells": [
    {
      "cell_type": "code",
      "execution_count": null,
      "id": "0fff8a99",
      "metadata": {
        "id": "0fff8a99"
      },
      "outputs": [],
      "source": [
        "1.\tWrite a Python Program to Find LCM?\n",
        "2.\tWrite a Python Program to Find HCF?\n",
        "3.\tWrite a Python Program to Convert Decimal to Binary, Octal and Hexadecimal?\n",
        "4.\tWrite a Python Program To Find ASCII value of a character?\n",
        "5.\tWrite a Python Program to Make a Simple Calculator with 4 basic mathematical operations?\n"
      ]
    },
    {
      "cell_type": "markdown",
      "source": [
        "##\tWrite a Python Program to Find LCM"
      ],
      "metadata": {
        "id": "ykTq-aEUKI-e"
      },
      "id": "ykTq-aEUKI-e"
    },
    {
      "cell_type": "code",
      "source": [
        "# Python program to find LCM of two numbers\n",
        " \n",
        "# Recursive function to return gcd of a and b\n",
        "def gcd(a,b):\n",
        "    if a == 0:\n",
        "        return b\n",
        "    return gcd(b % a, a)\n",
        " \n",
        "# Function to return LCM of two numbers\n",
        "def lcm(a,b):\n",
        "    return (a / gcd(a,b))* b\n",
        " \n",
        "# Driver program to test above function\n",
        "a = 25\n",
        "b = 35\n",
        "print('LCM of', a, 'and', b, 'is', lcm(a, b))"
      ],
      "metadata": {
        "colab": {
          "base_uri": "https://localhost:8080/"
        },
        "id": "5fs_8_5uKItg",
        "outputId": "061de7d6-65dd-408f-d346-92c1cedc722d"
      },
      "id": "5fs_8_5uKItg",
      "execution_count": 1,
      "outputs": [
        {
          "output_type": "stream",
          "name": "stdout",
          "text": [
            "LCM of 25 and 35 is 175.0\n"
          ]
        }
      ]
    },
    {
      "cell_type": "markdown",
      "source": [
        "##Write a Python Program to Find HCF?"
      ],
      "metadata": {
        "id": "ej_4yxWBKrZO"
      },
      "id": "ej_4yxWBKrZO"
    },
    {
      "cell_type": "code",
      "source": [
        "x= 50\n",
        "y = 100\n",
        "if x > y:\n",
        "  x, y = y, x\n",
        "for i in range(1,x+1):\n",
        "  if x%i == 0 and y%i == 0:\n",
        "    hcf = i\n",
        "\n",
        "print(\"HCF of\", x, \"and\", y, \"is:\", hcf)"
      ],
      "metadata": {
        "colab": {
          "base_uri": "https://localhost:8080/"
        },
        "id": "gs9zaCtMKq7w",
        "outputId": "6cb65d4c-3603-425c-bb91-df5b7f64fec0"
      },
      "id": "gs9zaCtMKq7w",
      "execution_count": 3,
      "outputs": [
        {
          "output_type": "stream",
          "name": "stdout",
          "text": [
            "HCF of 50 and 100 is: 50\n"
          ]
        }
      ]
    },
    {
      "cell_type": "markdown",
      "source": [
        "##Write a Python Program to Convert Decimal to Binary, Octal and Hexadecimal"
      ],
      "metadata": {
        "id": "hNoxIrz3NI79"
      },
      "id": "hNoxIrz3NI79"
    },
    {
      "cell_type": "code",
      "source": [
        "# First, we will define the function to convert decimal to binary  \n",
        "def decimal_into_binary(decimal_1):  \n",
        "    decimal = int(decimal_1)  \n",
        "    \n",
        "    # then, print the equivalent decimal  \n",
        "    print (\"The given decimal number\", decimal, \"in Binary number is: \", bin(decimal))  \n",
        "# we will define the function to convert decimal to octal  \n",
        "def decimal_into_octal(decimal_1):  \n",
        "    decimal = int(decimal_1)  \n",
        "    \n",
        "    # Then, print the equivalent decimal  \n",
        "    print (\"The given decimal number\", decimal, \"in Octal number is: \", oct(decimal))  \n",
        "# we will define the function to convert decimal to hexadecimal  \n",
        "def decimal_into_hexadecimal(decimal_1):  \n",
        "    decimal = int(decimal_1)  \n",
        "    \n",
        "    # Then, print the equivalent decimal  \n",
        "    print (\"The given decimal number\", decimal, \" in Hexadecimal number is: \", hex(decimal))  \n",
        "    \n",
        "# Driver program  \n",
        "decimal_1 = int (input (\" Enter the Decimal Number: \"))  \n",
        "decimal_into_binary(decimal_1)  \n",
        "decimal_into_octal(decimal_1)  \n",
        "decimal_into_hexadecimal(decimal_1)  "
      ],
      "metadata": {
        "colab": {
          "base_uri": "https://localhost:8080/"
        },
        "id": "WwZ7R-1nNBv_",
        "outputId": "71f8cf32-ef0c-4949-9c6e-c06a36272e0e"
      },
      "id": "WwZ7R-1nNBv_",
      "execution_count": 4,
      "outputs": [
        {
          "output_type": "stream",
          "name": "stdout",
          "text": [
            " Enter the Decimal Number: 1231\n",
            "The given decimal number 1231 in Binary number is:  0b10011001111\n",
            "The given decimal number 1231 in Octal number is:  0o2317\n",
            "The given decimal number 1231  in Hexadecimal number is:  0x4cf\n"
          ]
        }
      ]
    },
    {
      "cell_type": "markdown",
      "id": "b18f2c3f",
      "metadata": {
        "id": "b18f2c3f"
      },
      "source": [
        "#  creat sample calculator"
      ]
    },
    {
      "cell_type": "code",
      "execution_count": null,
      "id": "8e334b00",
      "metadata": {
        "id": "8e334b00"
      },
      "outputs": [],
      "source": [
        "print(\"\"\"You can perform below operation :\n",
        "      Add +\n",
        "      sub -\n",
        "      mult *\n",
        "      sub /\"\"\")\n",
        "\n",
        "num1=int(input(\"Please Enter your first number\"))\n",
        "num2=int(input(\"Please Enter your second number\"))\n",
        "operator=input(\"Enter your operator symbol\")\n",
        "\n",
        "if operator==\"+\":\n",
        "    print(num1+num2)\n",
        "elif operator==\"-\":\n",
        "    print(num1-num2)\n",
        "elif operator==\"*\":\n",
        "    print(num1*num2)\n",
        "elif operator==\"/\":\n",
        "    print(num1/num2)\n",
        "else:\n",
        "    print(\"Invalid operation\")\n",
        "\n",
        "    \n",
        "    \n"
      ]
    },
    {
      "cell_type": "code",
      "execution_count": null,
      "id": "ae78f58d",
      "metadata": {
        "id": "ae78f58d"
      },
      "outputs": [],
      "source": [
        ""
      ]
    }
  ],
  "metadata": {
    "kernelspec": {
      "display_name": "Python 3 (ipykernel)",
      "language": "python",
      "name": "python3"
    },
    "language_info": {
      "codemirror_mode": {
        "name": "ipython",
        "version": 3
      },
      "file_extension": ".py",
      "mimetype": "text/x-python",
      "name": "python",
      "nbconvert_exporter": "python",
      "pygments_lexer": "ipython3",
      "version": "3.9.7"
    },
    "colab": {
      "name": "Assignment_5.ipynb",
      "provenance": [],
      "collapsed_sections": []
    }
  },
  "nbformat": 4,
  "nbformat_minor": 5
}